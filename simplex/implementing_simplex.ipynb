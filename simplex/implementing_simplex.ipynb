{
 "cells": [
  {
   "cell_type": "markdown",
   "id": "brazilian-scenario",
   "metadata": {},
   "source": [
    "# simplex tableau\n",
    "\n",
    "is structured\n",
    "\n",
    "```\n",
    "+---------------+-------------------+\n",
    "| -c'_bB^(-1)b  |   c'-c'_b B^(-1)A |\n",
    "+---------------+-------------------+\n",
    "| B^(-1)b       |  B^(-1)A          |\n",
    "+---------------+-------------------+\n",
    "```\n",
    "meaning:\n",
    "\n",
    "```\n",
    "\n",
    "+---------------------------------+-----------------------------+\n",
    "|    current optim func cost      |  relative cost for each var |\n",
    "+---------------------------------+-----------------------------+\n",
    "| values of vars in current base  |  current const coeficients  |\n",
    "+---------------------------------+-----------------------------+\n",
    "```"
   ]
  },
  {
   "cell_type": "markdown",
   "id": "stable-prison",
   "metadata": {},
   "source": [
    "We are minimaizing `-10x1 - 12x2-12x3`\n",
    "\n",
    "with following constraints\n",
    "```\n",
    "1*x1 + 2*x2 + 2*x3 + x4 = 20\n",
    "2*x1 + x2  + 2*x3 + x5 = 20\n",
    "2*x1 + 2*x2  + x3 + x6 = 20\n",
    "x1, ..., x6 >= 0\n",
    "```"
   ]
  },
  {
   "cell_type": "code",
   "execution_count": 1,
   "id": "wrong-turkey",
   "metadata": {},
   "outputs": [],
   "source": [
    "%load_ext autoreload\n",
    "%autoreload 2\n",
    "import numpy as np\n",
    "import simplex as my"
   ]
  },
  {
   "cell_type": "code",
   "execution_count": 2,
   "id": "precise-gibson",
   "metadata": {},
   "outputs": [],
   "source": [
    "A = np.array([[1, 1], \n",
    "              [0, 1], \n",
    "              [1, 2]])\n",
    "b = np.array([0, 6, 3, 9])\n",
    "c = np.array([2, 5])\n"
   ]
  },
  {
   "cell_type": "code",
   "execution_count": 3,
   "id": "reliable-country",
   "metadata": {},
   "outputs": [],
   "source": [
    "A = np.array([[1, 2, 2], \n",
    "              [2, 1, 2], \n",
    "              [2, 2, 1]])\n",
    "b = np.array([0,20, 20, 20])\n",
    "c = np.array([-10, -12, -12])\n",
    "A = A.reshape((3,3))\n",
    "c = c.reshape((1,3))"
   ]
  },
  {
   "cell_type": "code",
   "execution_count": 4,
   "id": "broad-coordinator",
   "metadata": {},
   "outputs": [],
   "source": [
    " s = my.Simplex(A,b,c)"
   ]
  },
  {
   "cell_type": "code",
   "execution_count": 5,
   "id": "second-medium",
   "metadata": {},
   "outputs": [
    {
     "name": "stdout",
     "output_type": "stream",
     "text": [
      "[[  0. -10. -12. -12.   0.   0.   0.]\n",
      " [ 20.   1.   2.   2.   1.   0.   0.]\n",
      " [ 20.   2.   1.   2.   0.   1.   0.]\n",
      " [ 20.   2.   2.   1.   0.   0.   1.]]\n",
      "\n",
      "[[ 0.5  1.   1.   0.5  0.   0. ]\n",
      " [ 1.5  0.   1.  -0.5  1.   0. ]\n",
      " [ 1.   0.  -1.  -1.   0.   1. ]]\n",
      "[120.  10.  10.   0.]\n",
      "[-4.  0.  0.  6.  0.  0.]\n"
     ]
    },
    {
     "data": {
      "text/plain": [
       "array([[120. ,  -4. ,   0. ,   0. ,   6. ,   0. ,   0. ],\n",
       "       [ 10. ,   0.5,   1. ,   1. ,   0.5,   0. ,   0. ],\n",
       "       [ 10. ,   1.5,   0. ,   1. ,  -0.5,   1. ,   0. ],\n",
       "       [  0. ,   1. ,   0. ,  -1. ,  -1. ,   0. ,   1. ]])"
      ]
     },
     "execution_count": 5,
     "metadata": {},
     "output_type": "execute_result"
    }
   ],
   "source": [
    "s.optimize()"
   ]
  },
  {
   "cell_type": "code",
   "execution_count": 6,
   "id": "experimental-phoenix",
   "metadata": {},
   "outputs": [],
   "source": [
    "test_itr_1 = np.array([\n",
    "[120.0,\t-4.0,\t0.0,\t0.0,\t6.0,\t0.0,\t0.0\t],\n",
    "[10.0,\t0.5,\t1.0,\t1.0,\t0.5,\t0.0,\t0.0\t],\n",
    "[10.0,\t1.5,\t0.0,\t1.0,\t-0.5,\t1.0,\t0.0\t],\n",
    "[0.0,\t1.0,\t0.0,\t-1.0,\t-1.0,\t0.0,\t1.0\t]\n",
    "])\n",
    "# assert(np.array_equiv(s.optimize(), test_itr_1))"
   ]
  },
  {
   "cell_type": "code",
   "execution_count": null,
   "id": "ranging-tension",
   "metadata": {},
   "outputs": [],
   "source": []
  }
 ],
 "metadata": {
  "kernelspec": {
   "display_name": "Python 3",
   "language": "python",
   "name": "python3"
  },
  "language_info": {
   "codemirror_mode": {
    "name": "ipython",
    "version": 3
   },
   "file_extension": ".py",
   "mimetype": "text/x-python",
   "name": "python",
   "nbconvert_exporter": "python",
   "pygments_lexer": "ipython3",
   "version": "3.8.5"
  }
 },
 "nbformat": 4,
 "nbformat_minor": 5
}
