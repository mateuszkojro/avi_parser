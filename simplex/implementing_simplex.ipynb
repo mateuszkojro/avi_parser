{
 "cells": [
  {
   "cell_type": "markdown",
   "id": "black-withdrawal",
   "metadata": {},
   "source": [
    "# simplex tableau\n",
    "\n",
    "is structured\n",
    "\n",
    "```\n",
    "+---------------+-------------------+\n",
    "| -c'_bB^(-1)b  |   c'-c'_b B^(-1)A |\n",
    "+---------------+-------------------+\n",
    "| B^(-1)b       |  B^(-1)A          |\n",
    "+---------------+-------------------+\n",
    "```\n",
    "meaning:\n",
    "\n",
    "```\n",
    "\n",
    "+---------------------------------+-----------------------------+\n",
    "|    current optim func cost      |  relative cost for each var |\n",
    "+---------------------------------+-----------------------------+\n",
    "| values of vars in current base  |  current const coeficients  |\n",
    "+---------------------------------+-----------------------------+\n",
    "```"
   ]
  },
  {
   "cell_type": "markdown",
   "id": "sorted-pillow",
   "metadata": {},
   "source": [
    "We are minimaizing `-10x1 - 12x2-12x3`\n",
    "\n",
    "with following constraints\n",
    "```\n",
    "1*x1 + 2*x2 + 2*x3 + x4 = 20\n",
    "2*x1 + x2  + 2*x3 + x5 = 20\n",
    "2*x1 + 2*x2  + x3 + x6 = 20\n",
    "x1, ..., x6 >= 0\n",
    "```"
   ]
  },
  {
   "cell_type": "code",
   "execution_count": 30,
   "id": "parallel-violation",
   "metadata": {},
   "outputs": [
    {
     "name": "stdout",
     "output_type": "stream",
     "text": [
      "The autoreload extension is already loaded. To reload it, use:\n",
      "  %reload_ext autoreload\n"
     ]
    }
   ],
   "source": [
    "%load_ext autoreload\n",
    "%autoreload 2\n",
    "import numpy as np\n",
    "import simplex as my\n",
    "import time"
   ]
  },
  {
   "cell_type": "code",
   "execution_count": 2,
   "id": "improved-iceland",
   "metadata": {},
   "outputs": [],
   "source": [
    "A = np.array([[1, 1], \n",
    "              [0, 1], \n",
    "              [1, 2]])\n",
    "b = np.array([0, 6, 3, 9])\n",
    "c = np.array([2, 5])\n"
   ]
  },
  {
   "cell_type": "code",
   "execution_count": 18,
   "id": "transparent-infection",
   "metadata": {},
   "outputs": [],
   "source": [
    "A = np.array([[1, 2, 2], \n",
    "              [2, 1, 2], \n",
    "              [2, 2, 1]])\n",
    "b = np.array([0,20, 20, 20])\n",
    "c = np.array([-10, -12, -12])\n",
    "A = A.reshape((3,3))\n",
    "c = c.reshape((1,3))"
   ]
  },
  {
   "cell_type": "code",
   "execution_count": 19,
   "id": "becoming-arrest",
   "metadata": {},
   "outputs": [
    {
     "name": "stdout",
     "output_type": "stream",
     "text": [
      "A [[1. 2. 2. 1. 0. 0.]\n",
      " [2. 1. 2. 0. 1. 0.]\n",
      " [2. 2. 1. 0. 0. 1.]]\n",
      "b [ 0. 20. 20. 20.]\n",
      "c [[-10. -12. -12.   0.   0.   0.]]\n"
     ]
    }
   ],
   "source": [
    " s = my.Simplex(A,b,c)\n",
    "print(\"A\",s.A)\n",
    "print(\"b\",s.b)\n",
    "print(\"c\",s.c)"
   ]
  },
  {
   "cell_type": "code",
   "execution_count": 5,
   "id": "conservative-premiere",
   "metadata": {
    "scrolled": true
   },
   "outputs": [
    {
     "name": "stdout",
     "output_type": "stream",
     "text": [
      "i 0 col 1 b[i] 20.0 a_val 2.0 row 0 ratio 10.0\n",
      "i 1 col 1 b[i] 20.0 a_val 1.0 row 1 ratio 20.0\n",
      "i 2 col 1 b[i] 20.0 a_val 2.0 row 2 ratio 10.0\n",
      "[[  0. -10. -12. -12.   0.   0.   0.]\n",
      " [ 20.   1.   2.   2.   1.   0.   0.]\n",
      " [ 20.   2.   1.   2.   0.   1.   0.]\n",
      " [ 20.   2.   2.   1.   0.   0.   1.]]\n",
      "\n",
      "[[120.   -4.    0.    0.    6.    0.    0. ]\n",
      " [ 10.    0.5   1.    1.    0.5   0.    0. ]\n",
      " [ 10.    1.5   0.    1.   -0.5   1.    0. ]\n",
      " [  0.    1.    0.   -1.   -1.    0.    1. ]]\n",
      "Pivot col:  2\n",
      "pivot row:  1\n",
      "2.0\n"
     ]
    }
   ],
   "source": [
    "pass1 = s.optimize()"
   ]
  },
  {
   "cell_type": "code",
   "execution_count": 6,
   "id": "narrow-block",
   "metadata": {},
   "outputs": [
    {
     "name": "stdout",
     "output_type": "stream",
     "text": [
      "i 0 col 0 b[i] 10.0 a_val 0.5 row 0 ratio 20.0\n",
      "i 1 col 0 b[i] 10.0 a_val 1.5 row 1 ratio 6.666666666666667\n",
      "i 2 col 0 b[i] 0.0 a_val 1.0 row 2 ratio 0.0\n",
      "[[120.   -4.    0.    0.    6.    0.    0. ]\n",
      " [ 10.    0.5   1.    1.    0.5   0.    0. ]\n",
      " [ 10.    1.5   0.    1.   -0.5   1.    0. ]\n",
      " [  0.    1.    0.   -1.   -1.    0.    1. ]]\n",
      "\n",
      "[[120.    0.    0.   -4.    2.    0.    4. ]\n",
      " [ 10.    0.    1.    1.5   1.    0.   -0.5]\n",
      " [ 10.    0.    0.    2.5   1.    1.   -1.5]\n",
      " [  0.    1.    0.   -1.   -1.    0.    1. ]]\n",
      "Pivot col:  1\n",
      "pivot row:  3\n",
      "1.0\n"
     ]
    }
   ],
   "source": [
    "pass2 = s.optimize()"
   ]
  },
  {
   "cell_type": "code",
   "execution_count": 13,
   "id": "presidential-drink",
   "metadata": {
    "scrolled": true
   },
   "outputs": [
    {
     "name": "stdout",
     "output_type": "stream",
     "text": [
      "helllo\n",
      "helllo\n",
      "i 2 col 0 b[i] 4.0 a_val 1.0 row 2 ratio 4.0\n",
      "[[136.    0.    0.    0.    3.6   1.6   1.6]\n",
      " [  4.    0.    1.    0.    0.4  -0.6   0.4]\n",
      " [  4.    0.    0.    1.    0.4   0.4  -0.6]\n",
      " [  4.    1.    0.    0.   -0.6   0.4   0.4]]\n",
      "\n",
      "[[136.    0.    0.    0.    3.6   1.6   1.6]\n",
      " [  4.    0.    1.    0.    0.4  -0.6   0.4]\n",
      " [  4.    0.    0.    1.    0.4   0.4  -0.6]\n",
      " [  4.    1.    0.    0.   -0.6   0.4   0.4]]\n",
      "Pivot col:  1\n",
      "pivot row:  3\n",
      "1.0\n"
     ]
    },
    {
     "data": {
      "text/plain": [
       "array([[136. ,   0. ,   0. ,   0. ,   3.6,   1.6,   1.6],\n",
       "       [  4. ,   0. ,   1. ,   0. ,   0.4,  -0.6,   0.4],\n",
       "       [  4. ,   0. ,   0. ,   1. ,   0.4,   0.4,  -0.6],\n",
       "       [  4. ,   1. ,   0. ,   0. ,  -0.6,   0.4,   0.4]])"
      ]
     },
     "execution_count": 13,
     "metadata": {},
     "output_type": "execute_result"
    }
   ],
   "source": [
    "s.optimize()"
   ]
  },
  {
   "cell_type": "code",
   "execution_count": 15,
   "id": "outer-locator",
   "metadata": {},
   "outputs": [],
   "source": [
    "test_itr_1 = np.array([\n",
    "[120.0,\t-4.0,\t0.0,\t0.0,\t6.0,\t0.0,\t0.0\t],\n",
    "[10.0,\t0.5,\t1.0,\t1.0,\t0.5,\t0.0,\t0.0\t],\n",
    "[10.0,\t1.5,\t0.0,\t1.0,\t-0.5,\t1.0,\t0.0\t],\n",
    "[0.0,\t1.0,\t0.0,\t-1.0,\t-1.0,\t0.0,\t1.0\t]\n",
    "])\n",
    "assert(np.array_equiv(pass1, test_itr_1))"
   ]
  },
  {
   "cell_type": "code",
   "execution_count": 17,
   "id": "sized-bolivia",
   "metadata": {},
   "outputs": [],
   "source": [
    "test_itr_2 = np.array([\n",
    "[120.0, 0.0, 0.0, -4.0, 2.0, 0.0, 4.0],\n",
    "[10.0,0.0,1.0,1.5,1.0,0.0,-0.5],\n",
    "[10.0,0.0,0.0,2.5,1.0,\t1.0,\t-1.5],\n",
    "[0.0,1.0,\t0.0,\t-1.0,\t-1.0,\t0.0,\t1.0],\n",
    "])\n",
    "assert(np.array_equiv(pass2, test_itr_2))"
   ]
  },
  {
   "cell_type": "code",
   "execution_count": 33,
   "id": "hungry-silly",
   "metadata": {},
   "outputs": [
    {
     "name": "stdout",
     "output_type": "stream",
     "text": [
      "i 0 col 1 b[i] 20.0 a_val 2.0 row 0 ratio 10.0\n",
      "i 1 col 1 b[i] 20.0 a_val 1.0 row 1 ratio 20.0\n",
      "i 2 col 1 b[i] 20.0 a_val 2.0 row 2 ratio 10.0\n",
      "[[  0. -10. -12. -12.   0.   0.   0.]\n",
      " [ 20.   1.   2.   2.   1.   0.   0.]\n",
      " [ 20.   2.   1.   2.   0.   1.   0.]\n",
      " [ 20.   2.   2.   1.   0.   0.   1.]]\n",
      "\n",
      "[[120.   -4.    0.    0.    6.    0.    0. ]\n",
      " [ 10.    0.5   1.    1.    0.5   0.    0. ]\n",
      " [ 10.    1.5   0.    1.   -0.5   1.    0. ]\n",
      " [  0.    1.    0.   -1.   -1.    0.    1. ]]\n",
      "Pivot col:  2\n",
      "pivot row:  1\n",
      "2.0\n",
      "i 0 col 0 b[i] 10.0 a_val 0.5 row 0 ratio 20.0\n",
      "i 1 col 0 b[i] 10.0 a_val 1.5 row 1 ratio 6.666666666666667\n",
      "i 2 col 0 b[i] 0.0 a_val 1.0 row 2 ratio 0.0\n",
      "[[120.   -4.    0.    0.    6.    0.    0. ]\n",
      " [ 10.    0.5   1.    1.    0.5   0.    0. ]\n",
      " [ 10.    1.5   0.    1.   -0.5   1.    0. ]\n",
      " [  0.    1.    0.   -1.   -1.    0.    1. ]]\n",
      "\n",
      "[[120.    0.    0.   -4.    2.    0.    4. ]\n",
      " [ 10.    0.    1.    1.5   1.    0.   -0.5]\n",
      " [ 10.    0.    0.    2.5   1.    1.   -1.5]\n",
      " [  0.    1.    0.   -1.   -1.    0.    1. ]]\n",
      "Pivot col:  1\n",
      "pivot row:  3\n",
      "1.0\n",
      "i 0 col 2 b[i] 10.0 a_val 1.5 row 0 ratio 6.666666666666667\n",
      "i 1 col 2 b[i] 10.0 a_val 2.5 row 1 ratio 4.0\n",
      "helllo\n",
      "[[120.    0.    0.   -4.    2.    0.    4. ]\n",
      " [ 10.    0.    1.    1.5   1.    0.   -0.5]\n",
      " [ 10.    0.    0.    2.5   1.    1.   -1.5]\n",
      " [  0.    1.    0.   -1.   -1.    0.    1. ]]\n",
      "\n",
      "[[136.    0.    0.    0.    3.6   1.6   1.6]\n",
      " [  4.    0.    1.    0.    0.4  -0.6   0.4]\n",
      " [  4.    0.    0.    1.    0.4   0.4  -0.6]\n",
      " [  4.    1.    0.    0.   -0.6   0.4   0.4]]\n",
      "Pivot col:  3\n",
      "pivot row:  2\n",
      "2.5\n",
      "helllo\n",
      "helllo\n",
      "i 2 col 0 b[i] 4.0 a_val 1.0 row 2 ratio 4.0\n",
      "[[136.    0.    0.    0.    3.6   1.6   1.6]\n",
      " [  4.    0.    1.    0.    0.4  -0.6   0.4]\n",
      " [  4.    0.    0.    1.    0.4   0.4  -0.6]\n",
      " [  4.    1.    0.    0.   -0.6   0.4   0.4]]\n",
      "\n",
      "[[136.    0.    0.    0.    3.6   1.6   1.6]\n",
      " [  4.    0.    1.    0.    0.4  -0.6   0.4]\n",
      " [  4.    0.    0.    1.    0.4   0.4  -0.6]\n",
      " [  4.    1.    0.    0.   -0.6   0.4   0.4]]\n",
      "Pivot col:  1\n",
      "pivot row:  3\n",
      "1.0\n",
      "This all took:  0.020030026003951207\n"
     ]
    }
   ],
   "source": [
    "s = my.Simplex(A,b,c)\n",
    "start = time.perf_counter()\n",
    "s.simplex(4)\n",
    "stop = time.perf_counter()\n",
    "print(\"This all took: \",stop-start)"
   ]
  },
  {
   "cell_type": "code",
   "execution_count": null,
   "id": "generous-thomas",
   "metadata": {},
   "outputs": [],
   "source": []
  }
 ],
 "metadata": {
  "kernelspec": {
   "display_name": "Python 3",
   "language": "python",
   "name": "python3"
  },
  "language_info": {
   "codemirror_mode": {
    "name": "ipython",
    "version": 3
   },
   "file_extension": ".py",
   "mimetype": "text/x-python",
   "name": "python",
   "nbconvert_exporter": "python",
   "pygments_lexer": "ipython3",
   "version": "3.8.5"
  }
 },
 "nbformat": 4,
 "nbformat_minor": 5
}
