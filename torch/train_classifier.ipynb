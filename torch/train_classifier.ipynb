{
 "cells": [
  {
   "cell_type": "code",
   "execution_count": 1,
   "metadata": {},
   "outputs": [],
   "source": [
    "from torch.utils.data import DataLoader\n",
    "# % load_ext autoreload\n",
    "# % autoreload 2\n",
    "import torch\n",
    "import torchvision.transforms as transforms\n",
    "\n",
    "import matplotlib.pyplot as plt\n",
    "import numpy as np\n",
    "\n",
    "from PIL import Image\n",
    "\n",
    "# remove scipy\n",
    "import scipy.misc as sci\n",
    "import cv2\n",
    "import re"
   ]
  },
  {
   "cell_type": "code",
   "execution_count": 2,
   "metadata": {
    "pycharm": {
     "name": "#%%\n"
    }
   },
   "outputs": [],
   "source": [
    "import torch.nn as nn\n",
    "import torch.nn.functional as F\n",
    "\n",
    "\n",
    "class Classifier(nn.Module):\n",
    "    def __init__(self):\n",
    "        super(Classifier, self).__init__()\n",
    "        self.flatten = nn.Flatten()\n",
    "        self.linear_relu_stack = nn.Sequential(\n",
    "            # nn.Conv1d(1920 * 1080,10 ,(1)),\n",
    "            nn.Linear(1920 * 1080, 2, bias=True),\n",
    "            # nn.ReLU(),\n",
    "            # nn.Linear(10, 10, bias=False),\n",
    "            # nn.ReLU(),\n",
    "            # nn.Linear(10, 10, bias=True),\n",
    "            # nn.ReLU(),\n",
    "            # nn.Linear(10, 2, bias=False),\n",
    "            nn.ReLU(),\n",
    "#             nn.Sigmoid()\n",
    "        )\n",
    "\n",
    "    def forward(self, x):\n",
    "        x = self.flatten(x)\n",
    "        logits = self.linear_relu_stack(x)\n",
    "        return logits"
   ]
  },
  {
   "cell_type": "code",
   "execution_count": 3,
   "metadata": {
    "pycharm": {
     "name": "#%%\n"
    }
   },
   "outputs": [
    {
     "name": "stdout",
     "output_type": "stream",
     "text": [
      "Using cpu device\n",
      "Model sent to cpu\n"
     ]
    }
   ],
   "source": [
    "device = 'cuda' if torch.cuda.is_available() else 'cpu'\n",
    "print('Using {} device'.format(device))\n",
    "model = Classifier().to(device)\n",
    "print(f\"Model sent to {device}\")"
   ]
  },
  {
   "cell_type": "code",
   "execution_count": 4,
   "metadata": {
    "pycharm": {
     "name": "#%%\n"
    }
   },
   "outputs": [
    {
     "name": "stdout",
     "output_type": "stream",
     "text": [
      "Loading image dataset\n",
      "Loaded\n",
      "Loading data from dataset\n",
      "Loaded\n",
      "        image   is_white   is_black\n",
      "0   white.ppm          1          0\n",
      "1   black.ppm          0          1\n",
      "2   white.ppm          1          0\n",
      "3   white.ppm          1          0\n",
      "4   white.ppm          1          0\n",
      "..        ...        ...        ...\n",
      "67  black.ppm          0          1\n",
      "68  black.ppm          0          1\n",
      "69  black.ppm          0          1\n",
      "70  black.ppm          0          1\n",
      "71  black.ppm          0          1\n",
      "\n",
      "[72 rows x 3 columns]\n"
     ]
    }
   ],
   "source": [
    "from create_dataset import ImageDataset, ToTensor\n",
    "\n",
    "print(\"Loading image dataset\")\n",
    "image_dataset = ImageDataset(csv_file=\"./simple_data.csv\",\n",
    "                             root_dir=\"./bw_images\",\n",
    "                             transform=transforms.Compose([ToTensor()]))\n",
    "print(\"Loaded\")\n",
    "print(\"Loading data from dataset\")\n",
    "loaded = torch.utils.data.DataLoader(image_dataset,\n",
    "                                     batch_size=1,\n",
    "                                     shuffle=True,\n",
    "                                     num_workers=0)\n",
    "print(\"Loaded\")\n",
    "print(image_dataset)"
   ]
  },
  {
   "cell_type": "code",
   "execution_count": 5,
   "metadata": {
    "pycharm": {
     "name": "#%%\n"
    }
   },
   "outputs": [],
   "source": [
    "def train_loop(model, dataloader, loss_fn, optimizer, LOGS=False):\n",
    "    size = len(loaded)\n",
    "    end_loss = []\n",
    "    for batch, obj in enumerate(dataloader):\n",
    "        # get the inputs; data is a list of [inputs, labels]\n",
    "        inputs = obj['image']\n",
    "        labels = obj['landmarks']\n",
    "\n",
    "        # zero the parameter gradients\n",
    "        # optimizer.zero_grad()\n",
    "\n",
    "        # forward + backward + optimize\n",
    "        prediction = model(inputs)\n",
    "\n",
    "        # Normalize the probabilities\n",
    "        predictions_normalized = nn.Softmax(dim=1)(prediction)\n",
    "\n",
    "        # Find the element with largest probability\n",
    "        y_pred = predictions_normalized.argmax(1)\n",
    "    \n",
    "        # labels = labels.view(predictions_normalized.size(0), 2)\n",
    "        # prediction = prediction.contiguous().view(1, 1, 2)\n",
    "#         print(torch.flatten(labels))\n",
    "        label = torch.from_numpy(np.array([0])) if torch.flatten(labels)[0] == 1 else torch.from_numpy(np.array([1]))\n",
    "        prediction = nn.Softmax(dim=1)(prediction)\n",
    "        loss = loss_fn(prediction,label)\n",
    "\n",
    "        # Backpropagation\n",
    "        optimizer.zero_grad()\n",
    "        loss.backward()\n",
    "        optimizer.step()\n",
    "\n",
    "        end_loss.append(loss.item())\n",
    "        # Enable or disable logging\n",
    "        if batch == 10:\n",
    "            pass\n",
    "#             return end_loss\n",
    "        if LOGS:\n",
    "            loss = loss.item()\n",
    "            print(f\"Predictions {prediction}\")\n",
    "            print(f\"Labels {labels}\")\n",
    "            print(f\"loss: {loss:>7f}, batch: {batch + 1}/{size}\")\n",
    "    return end_loss"
   ]
  },
  {
   "cell_type": "code",
   "execution_count": 6,
   "metadata": {
    "pycharm": {
     "name": "#%%\n"
    },
    "scrolled": true
   },
   "outputs": [
    {
     "name": "stdout",
     "output_type": "stream",
     "text": [
      "Epoch: 1\n",
      "Epoch: 2\n",
      "Epoch: 3\n",
      "Epoch: 4\n",
      "Epoch: 5\n",
      "Epoch: 6\n",
      "Epoch: 7\n",
      "Epoch: 8\n",
      "Epoch: 9\n",
      "Epoch: 10\n"
     ]
    },
    {
     "data": {
      "text/plain": "<Figure size 432x288 with 1 Axes>",
      "image/png": "[encoded data removed]"
     },
     "metadata": {
      "needs_background": "light"
     },
     "output_type": "display_data"
    }
   ],
   "source": [
    "learning_rate = 0.1\n",
    "# Initialize the loss function\n",
    "# loss_fn = torch.nn.L1Loss()\n",
    "loss_fn = nn.CrossEntropyLoss()\n",
    "optimizer = torch.optim.SGD(model.parameters(), lr=learning_rate)\n",
    "epochs = 10\n",
    "i = 0\n",
    "results = []\n",
    "for epoch in range(epochs):  # loop over the dataset multiple times\n",
    "    i += 1\n",
    "    print(f\"Epoch: {i}\")\n",
    "    loss = train_loop(model=model, dataloader=loaded, loss_fn=loss_fn, optimizer=optimizer, LOGS=False)\n",
    "    results = results + loss\n",
    "    plt.plot(results)\n"
   ]
  },
  {
   "cell_type": "code",
   "execution_count": null,
   "metadata": {
    "scrolled": true
   },
   "outputs": [],
   "source": [
    "PATH = './black_or_white.pth'\n",
    "if False:\n",
    "    torch.save(model.state_dict(), PATH)"
   ]
  },
  {
   "cell_type": "code",
   "execution_count": null,
   "metadata": {},
   "outputs": [],
   "source": [
    "net = Classifier()\n",
    "net.load_state_dict(torch.load(PATH))"
   ]
  }
 ],
 "metadata": {
  "kernelspec": {
   "display_name": "Python 3",
   "language": "python",
   "name": "python3"
  },
  "language_info": {
   "codemirror_mode": {
    "name": "ipython",
    "version": 3
   },
   "file_extension": ".py",
   "mimetype": "text/x-python",
   "name": "python",
   "nbconvert_exporter": "python",
   "pygments_lexer": "ipython3",
   "version": "3.9.4"
  }
 },
 "nbformat": 4,
 "nbformat_minor": 1
}